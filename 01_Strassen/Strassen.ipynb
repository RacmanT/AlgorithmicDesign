{
 "cells": [
  {
   "cell_type": "code",
   "execution_count": null,
   "metadata": {},
   "outputs": [],
   "source": [
    "import sys\n",
    "from timeit import timeit\n",
    "\n",
    "sys.path.append('./src/')\n",
    "from matrix import *\n",
    "\n",
    "n = 64\n",
    "m = 3\n",
    "p = 5\n",
    "\n",
    "A_squared = Matrix.random(n,n)\n",
    "B_squared = Matrix.random(n,n)\n",
    "\n",
    "A_not_squared = Matrix.random(m,n)\n",
    "B_not_squared = Matrix.random(n,p)"
   ]
  },
  {
   "cell_type": "markdown",
   "metadata": {},
   "source": [
    "## Matrix Multiplication\n",
    "\n",
    "1. Implement the `strassen_matrix_mult` function to multiply two $2^{n} \\times 2^{n}$ matrices by using the Strassen's algorithm;  \n",
    "  \n",
    "\n",
    "2. Generalize `strassen_matrix_mult` to deal with any kind of matrix pair that can be multiplied (possibly also non-square matrices) and prove that the asymptotic complexity does not change; \n",
    "  \n",
    "\n",
    "3. Improve the implementation of the function by reducing the number of auxiliary matrices and test the effects on the execution time;  \n",
    "  \n",
    "\n",
    "4. Answer to the following question: how much is the minimum auxiliary\n",
    "space required to evaluate the Strassen’s algorithm? Motivate the answer."
   ]
  },
  {
   "cell_type": "markdown",
   "metadata": {},
   "source": [
    "##### \n",
    "1. "
   ]
  },
  {
   "cell_type": "code",
   "execution_count": null,
   "metadata": {},
   "outputs": [],
   "source": [
    "def strassen_matrix_mult(A: Matrix, B: Matrix) -> Matrix:\n",
    "    \n",
    "    # Basic case\n",
    "    if max(A.num_of_rows, B.num_of_cols, A.num_of_cols) < 32:\n",
    "        return gauss_matrix_mult(A, B)\n",
    "\n",
    "    # Recursive\n",
    "    A11, A12, A21, A22 = get_matrix_quadrants(A)\n",
    "    B11, B12, B21, B22 = get_matrix_quadrants(B) \n",
    "\n",
    "    # First batch of sums Theta(n^2)\n",
    "    S1 = B12 - B22\n",
    "    S2 = A11 + A12\n",
    "    S3 = A21 + A22\n",
    "    S4 = B21 - B11\n",
    "    S5 = A11 + A22\n",
    "    S6 = B11 + B22\n",
    "    S7 = A12 - A22\n",
    "    S8 = B21 + B22\n",
    "    S9 = A11 - A21\n",
    "    S10 = B11 + B12\n",
    "    \n",
    "    # Recursive calls\n",
    "    P1 = strassen_matrix_mult(A11, S1)\n",
    "    P2 = strassen_matrix_mult(S2, B22)\n",
    "    P3 = strassen_matrix_mult(S3, B11)\n",
    "    P4 = strassen_matrix_mult(A22, S4)\n",
    "    P5 = strassen_matrix_mult(S5, S6)\n",
    "    P6 = strassen_matrix_mult(S7,S8)\n",
    "    P7 = strassen_matrix_mult(S9, S10)\n",
    "\n",
    "    # Second batch of sums Theta(n^2)\n",
    "    C11 = P5 + P4 - P2 + P6\n",
    "    C12 = P1 + P2\n",
    "    C21 = P3 + P4\n",
    "    C22 = P5 + P1 - P3 - P7\n",
    "\n",
    "    # Build the resault matrix\n",
    "    result = Matrix([[0 for x in range(B.num_of_cols)]\n",
    "                    for y in range(A.num_of_rows)], clone_matrix=False)\n",
    "\n",
    "    # Copying Cij into the resault matrix            \n",
    "    result.assign_submatrix(0, 0, C11)\n",
    "    result.assign_submatrix(0, result.num_of_cols//2, C12)\n",
    "    result.assign_submatrix(result.num_of_rows//2, 0, C21)\n",
    "    result.assign_submatrix(result.num_of_rows//2, \n",
    "                            result.num_of_cols//2, C22)\n",
    "\n",
    "    return result"
   ]
  },
  {
   "cell_type": "code",
   "execution_count": null,
   "metadata": {},
   "outputs": [],
   "source": [
    "C = strassen_matrix_mult(A_squared, B_squared)\n",
    "print(C)"
   ]
  },
  {
   "cell_type": "markdown",
   "metadata": {},
   "source": [
    "#####   \n",
    "2."
   ]
  },
  {
   "cell_type": "markdown",
   "metadata": {},
   "source": [
    "The `generalized_strassen_matrix_mult` can be applied to any pair of matrices that can be multiplied. In order to achieve that, it performs a *zero padding* (i.e it modifies the matrix dimensions, by adding zeros) to make the matrices $2^n$ squared and then it calls the `strassen_matrix_mult` on them. At the end, by getting rid of the extra zeros from the product, it fixes the sizes and it returns the result. For the padding we need, for both matrices, two nested `for loops` from `0` to `n`, one to create a zero matrix and the other, inside the function `.assign_submatrix()`, used to put the original matrix into its zero wrapper, resulting in a total complexity of $4 \\Theta(n^2)$. Then we apply the `strassen_matrix_mult` having complexity of $ \\Theta(n^{log_2(7)})$ and finally with the function `.submatrix()` we fix the sizes with another nested `for loop` from `0` to `n` having complexity of $\\Theta(n^2)$. Summing all the contributes we have the overall complexity:  \n",
    "$$ \\\\ 4\\Theta(n^2) + \\Theta(n^{log_2(7)}) + \\Theta(n^2) = \n",
    "\\Theta(n^{log_2(7)}) + 5\\Theta(n^2)\n",
    "\\simeq \\Theta(n^{log_2(7)}) < \\Theta(n^{3}) \\\\ $$ \n",
    " \n",
    "which is the same as the one of the `strassen_matrix_mult`.  A possible implementation could be:"
   ]
  },
  {
   "cell_type": "code",
   "execution_count": null,
   "metadata": {},
   "outputs": [],
   "source": [
    "def generalized_strassen_matrix_mult(A: Matrix, B: Matrix) -> Matrix:\n",
    "    \n",
    "    # Determinating the size of enlarged matrices\n",
    "    n = max(A.num_of_rows, B.num_of_cols, A.num_of_cols)\n",
    "    n = 2**math.ceil(math.log2(n))\n",
    "\n",
    "    # Zero padding to enlarge the matrix A\n",
    "    A_padded = Matrix([[0 for x in range(n)]\n",
    "                    for y in range(n)], clone_matrix=False)\n",
    "    A_padded.assign_submatrix(0, 0, A)\n",
    "\n",
    "    # Zero padding to enlarge the matrix B\n",
    "    B_padded = Matrix([[0 for x in range(n)]\n",
    "                    for y in range(n)], clone_matrix=False)\n",
    "    B_padded.assign_submatrix(0, 0, B)\n",
    "\n",
    "    # Standard strassen and fixing the size\n",
    "    return strassen_matrix_mult(A_padded, B_padded).submatrix(0, A.num_of_rows, 0, B.num_of_cols)"
   ]
  },
  {
   "cell_type": "code",
   "execution_count": null,
   "metadata": {},
   "outputs": [],
   "source": [
    "C = generalized_strassen_matrix_mult(A_not_squared, B_not_squared)\n",
    "print(C)"
   ]
  },
  {
   "cell_type": "markdown",
   "metadata": {},
   "source": [
    "#####  \n",
    "3."
   ]
  },
  {
   "cell_type": "markdown",
   "metadata": {},
   "source": [
    "\n",
    "We are going to take in consideration the multiplication of two $2^n$ squared matrices, since the generalized case will fall into this, as shown previously. In order to reduce the numer of auxiliary matrices it should be noticed that the recursion is used just in a set of equations (i.e the ones computing *$P_k$* ) and that at most two matrices, *$S_i$* and *$S_j$* , are used per time. Since all the other equations are given by sums and subtractions, we can split them without risking to increase the number of recurvise calls. Considering also that the majority of the matrices are not reused in more then one equation we can decrease the total amount of auxiliary matrices to three, two *$S$* matrices and one *$P$* matrix as follows:\n"
   ]
  },
  {
   "cell_type": "code",
   "execution_count": null,
   "metadata": {},
   "outputs": [],
   "source": [
    "def strassen_matrix_mult_optimised(A: Matrix, B: Matrix) -> Matrix:\n",
    "    \n",
    "    # Basic case\n",
    "    if max(A.num_of_rows, B.num_of_cols, A.num_of_cols) < 32:\n",
    "        return gauss_matrix_mult(A, B)\n",
    "\n",
    "    # Recursive\n",
    "    A11, A12, A21, A22 = get_matrix_quadrants(A)\n",
    "    B11, B12, B21, B22 = get_matrix_quadrants(B) \n",
    "    \n",
    "    # Recursive calls with overwriting\n",
    "    # New variables = Old Variables\n",
    "    \n",
    "    #S1 = S1, P = P1\n",
    "    S1 = B12 - B22\n",
    "    P = strassen_matrix_mult(A11, S1)\n",
    "    C12 = P\n",
    "    C22 = P\n",
    "    \n",
    "    #S1 = S4, P = P4\n",
    "    S1 = B21 - B11\n",
    "    P = strassen_matrix_mult(A22, S1)\n",
    "    C11 = P\n",
    "    C21 = P\n",
    "    \n",
    "    #S1 = S2, P = P2\n",
    "    S1 = A11 + A12\n",
    "    P = strassen_matrix_mult(S1, B22)\n",
    "    C12 += P\n",
    "    C11 -= P\n",
    "    \n",
    "    #S1 = S3, P = P3\n",
    "    S1 = A21 + A22\n",
    "    P = strassen_matrix_mult(S1, B11)\n",
    "    C21 += P\n",
    "    C22 -= P\n",
    "    \n",
    "    #S1 = S5, S2 = S6, P = P5\n",
    "    S1 = A11 + A22\n",
    "    S2 = B11 + B22\n",
    "    P = strassen_matrix_mult(S1, S2)\n",
    "    C11 += P\n",
    "    C22 += P\n",
    "    \n",
    "    \n",
    "    #S1 = S7, S2 = S8, P = P6\n",
    "    S1 = A12 - A22\n",
    "    S2 = B21 + B22\n",
    "    P = strassen_matrix_mult(S1,S2)\n",
    "    C11 += P\n",
    "    \n",
    "    \n",
    "    #S1 = S9, S2 = S10, P = P7\n",
    "    S1 = A11 - A21\n",
    "    S2 = B11 + B12\n",
    "    P = strassen_matrix_mult(S1, S2)\n",
    "    C22 -= P\n",
    "    \n",
    "    \n",
    "    # Build the resault matrix\n",
    "    result = Matrix([[0 for x in range(B.num_of_cols)]\n",
    "                    for y in range(A.num_of_rows)], clone_matrix=False)\n",
    "\n",
    "    # Copying Cij into the resault matrix            \n",
    "    result.assign_submatrix(0, 0, C11)\n",
    "    result.assign_submatrix(0, result.num_of_cols//2, C12)\n",
    "    result.assign_submatrix(result.num_of_rows//2, 0, C21)\n",
    "    result.assign_submatrix(result.num_of_rows//2, \n",
    "                            result.num_of_cols//2, C22)\n",
    "\n",
    "    return result"
   ]
  },
  {
   "cell_type": "code",
   "execution_count": null,
   "metadata": {},
   "outputs": [],
   "source": [
    "C = strassen_matrix_mult_optimised(A_squared, B_squared)\n",
    "print(C)"
   ]
  },
  {
   "cell_type": "markdown",
   "metadata": {},
   "source": [
    "In order to test the performances of `strassen_matrix_mult_optimised` we can use the following piece of code:"
   ]
  },
  {
   "cell_type": "code",
   "execution_count": null,
   "metadata": {},
   "outputs": [],
   "source": [
    "from sys import stdout\n",
    "seed(0)\n",
    "\n",
    "for i in range(5,10):\n",
    "    size = 2**i\n",
    "    stdout.write(f'{size}')\n",
    "    A = Matrix.random(size, size)\n",
    "    B = Matrix.random(size, size)\n",
    "\n",
    "    for funct in ['strassen_matrix_mult', 'strassen_matrix_mult_optimised']:\n",
    "        T = timeit(f'{funct}(A,B)', globals=locals(), number=1)\n",
    "        stdout.write('\\t{:.3f}'.format(T))\n",
    "        stdout.flush()\n",
    "    stdout.write('\\n')"
   ]
  },
  {
   "cell_type": "markdown",
   "metadata": {},
   "source": [
    "Which will produce something similar to:\n",
    "\n",
    "![performance](img/perfomance.png)\n",
    "\n",
    "and as it can be seen from the graph the optimised version shows some benefits when the size of the matrices is $\\geq 2^{10}$"
   ]
  },
  {
   "cell_type": "markdown",
   "metadata": {},
   "source": [
    "#####  \n",
    "4."
   ]
  },
  {
   "cell_type": "markdown",
   "metadata": {},
   "source": [
    "Recalling the recursion tree and taking into account that the tree is bounded at $log_2(32) = 5$ from below, the number of calls to `strassen_matrix_mult` is given by $ \\sum_{i = 0}^{log_2(n) - 5 - 1} 7^i $ , where the extra $-1$ in the upper bound is given due to the implementation with `<` instead of `<=`. At each call, three auxiliary matrices having half of the dimension with respect to the previous call, are made. Since we are interested in the minimum space required, we have to evaluate \n",
    "$$ \\sum \\text{#auxiliary_matrices} \\times \\text{#calls} \\times \\text{matrix_size}  \\\\ $$ \n",
    "which in formal terms become:\n",
    "\n",
    "$$\n",
    " \\left.\n",
    "  \\begin{cases}\n",
    "    \\sum_{i = 0}^{log_2(n) - 6} 3 \\times 7^i \\times {({{n} \\over {2^{i+1}}})^2} =\n",
    "{{3 n^2} \\over {4}} \\times  \\sum_{i = 0}^{log_2(n) - 6}  {({{7} \\over {4}})^i} =\n",
    "{{3n^2} \\over {4}} {{1+{{{7} \\over {4}}^{log_2(n) - 5}}} \\over {{3} \\over {4}}} =\n",
    "n^2 (1 + {{7 \\over 4}^{log_2(n) - 5}})& \\text{when } \quad n > 32 \\\\\n",
    "0 & \\text{otherwise } \n",
    "  \\end{cases}\n",
    "  \\right. \n",
    "$$\n",
    "  \n",
    "and since $n$ is a power of $2$ the minimum space required will be an integer as expected."
   ]
  }
 ],
 "metadata": {
  "kernelspec": {
   "display_name": "Python 3",
   "language": "python",
   "name": "python3"
  },
  "language_info": {
   "codemirror_mode": {
    "name": "ipython",
    "version": 3
   },
   "file_extension": ".py",
   "mimetype": "text/x-python",
   "name": "python",
   "nbconvert_exporter": "python",
   "pygments_lexer": "ipython3",
   "version": "3.9.2"
  }
 },
 "nbformat": 4,
 "nbformat_minor": 4
}
